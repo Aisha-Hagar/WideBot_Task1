{
  "nbformat": 4,
  "nbformat_minor": 0,
  "metadata": {
    "colab": {
      "provenance": [],
      "toc_visible": true,
      "authorship_tag": "ABX9TyNnPOGxDcWeVyIusuxnpBv/",
      "include_colab_link": true
    },
    "kernelspec": {
      "name": "python3",
      "display_name": "Python 3"
    },
    "language_info": {
      "name": "python"
    }
  },
  "cells": [
    {
      "cell_type": "markdown",
      "metadata": {
        "id": "view-in-github",
        "colab_type": "text"
      },
      "source": [
        "<a href=\"https://colab.research.google.com/github/Aisha-Hagar/WideBot_Task1/blob/main/WideBot_Task1.ipynb\" target=\"_parent\"><img src=\"https://colab.research.google.com/assets/colab-badge.svg\" alt=\"Open In Colab\"/></a>"
      ]
    },
    {
      "cell_type": "markdown",
      "source": [
        "#**Problem Statement**"
      ],
      "metadata": {
        "id": "iqxTA-5J25DW"
      }
    },
    {
      "cell_type": "markdown",
      "source": [
        "Using this dictionary, implement a spell checker class that takes this dictionary as input, this class has three main operations:\n",
        "\n",
        "• Store this dictionary in a suitable data structure.\n",
        "\n",
        "• Take an input word and return the nearest 4 words if this word is not in the dictionary\n",
        "\n",
        "• Take an input word and add this word to the dictionary\n",
        "\n",
        "For each operation specify the time and space complexity\n",
        "\n",
        "Note: You could assume that the nearest 4 words from a word are the 2 words before and after this word in lexicographic order if they exist."
      ],
      "metadata": {
        "id": "WH13wYDo2-FO"
      }
    },
    {
      "cell_type": "code",
      "execution_count": 1,
      "metadata": {
        "colab": {
          "base_uri": "https://localhost:8080/"
        },
        "id": "8lscZRZOqTm4",
        "outputId": "784f187f-762a-4ae1-8370-c13d6c2e51c6"
      },
      "outputs": [
        {
          "output_type": "stream",
          "name": "stdout",
          "text": [
            "Collecting pytrie\n",
            "  Downloading PyTrie-0.4.0.tar.gz (95 kB)\n",
            "\u001b[2K     \u001b[90m━━━━━━━━━━━━━━━━━━━━━━━━━━━━━━━━━━━━━━━━\u001b[0m \u001b[32m95.1/95.1 kB\u001b[0m \u001b[31m1.8 MB/s\u001b[0m eta \u001b[36m0:00:00\u001b[0m\n",
            "\u001b[?25h  Preparing metadata (setup.py) ... \u001b[?25l\u001b[?25hdone\n",
            "Requirement already satisfied: sortedcontainers in /usr/local/lib/python3.10/dist-packages (from pytrie) (2.4.0)\n",
            "Building wheels for collected packages: pytrie\n",
            "  Building wheel for pytrie (setup.py) ... \u001b[?25l\u001b[?25hdone\n",
            "  Created wheel for pytrie: filename=PyTrie-0.4.0-py3-none-any.whl size=6081 sha256=682a289261b396b4fa1ba7c3c87704e591864e28aea93a33acec4bf15abaf252\n",
            "  Stored in directory: /root/.cache/pip/wheels/87/0e/a3/3563272cb57af4afbc50c4c7882dd4540944aadde25c82bd45\n",
            "Successfully built pytrie\n",
            "Installing collected packages: pytrie\n",
            "Successfully installed pytrie-0.4.0\n"
          ]
        }
      ],
      "source": [
        "!pip install pytrie"
      ]
    },
    {
      "cell_type": "code",
      "source": [
        "#The data structure to store the dictionary is a trie\n",
        "#The trie data strucutre is from the pytrie package\n",
        "#Documentation: https://pytrie.readthedocs.io/en/latest/\n",
        "from pytrie import SortedStringTrie as Trie"
      ],
      "metadata": {
        "id": "XkAby769qa_m"
      },
      "execution_count": 43,
      "outputs": []
    },
    {
      "cell_type": "code",
      "source": [
        "class SpellChecker:\n",
        "  \"\"\"\n",
        "    A spell checker class.\n",
        "\n",
        "    ...\n",
        "\n",
        "    Attributes\n",
        "    ----------\n",
        "    dictionary : str\n",
        "        dictionary file path\n",
        "\n",
        "    Methods\n",
        "    -------\n",
        "    createTrie():\n",
        "        creates a trie from the dictionary.\n",
        "  \"\"\"\n",
        "\n",
        "  def __init__(self, dictionary):\n",
        "    \"\"\"\n",
        "    Initialize SpellChecker object and create a trie from the dictionary.\n",
        "\n",
        "    Parameters\n",
        "    ----------\n",
        "    dictionary : str\n",
        "        dictionary file path\n",
        "    \"\"\"\n",
        "\n",
        "    self.dictionary = dictionary\n",
        "    self.createTrie()\n",
        "\n",
        "  def createTrie(self):\n",
        "    \"\"\"\n",
        "    Creates a trie from the given dictionary by reading each line and adding it to the dictionary.\n",
        "    The time and space complexities of createTrie() are O(n*m)\n",
        "    where n is the number of words in the dictionary\n",
        "    and m is the length of the longest word.\n",
        "\n",
        "    \"\"\"\n",
        "\n",
        "    self.trie = Trie()\n",
        "    with open(self.dictionary, encoding='latin-1') as f:\n",
        "      for line in f:\n",
        "        line = line.strip()\n",
        "        self.trie[line] = line\n",
        "    f.close()\n",
        "\n",
        "  def wordCheck(self):\n",
        "    \"\"\"\n",
        "    Searches for an input word in the trie.\n",
        "    Prints if the word is found or not.\n",
        "    If the word is not found, it is inserted to the trie and the nearest 4 words are printed.\n",
        "    The time complexity of search and insert is O(l) where l is the length of the word.\n",
        "    The space complexity of search is O(1).\n",
        "    The space complexity of insert is O(l).\n",
        "\n",
        "    \"\"\"\n",
        "    word = input(\"Enter word: \")\n",
        "    if(self.trie.__contains__(word)):\n",
        "      print('The word exists in the dictionary.')\n",
        "    else:\n",
        "      self.trie[word] = word\n",
        "      print('The word \"{}\" is not in the dictionary.'.format(word))\n",
        "      words = [self.trie.values()[self.trie.values().index(word)+i] for i in [-2,-1,1,2]]\n",
        "      print('The four nearest words to the word \"{}\" are: \"{}\".'.format(word, words))\n",
        "      print('The word \"{}\" is added to dictionary.'.format(word))"
      ],
      "metadata": {
        "id": "gTgZKOu4rvzO"
      },
      "execution_count": 39,
      "outputs": []
    },
    {
      "cell_type": "code",
      "source": [
        "spell_check = SpellChecker('dictionary.txt')"
      ],
      "metadata": {
        "id": "LsKnlHO0uRXZ"
      },
      "execution_count": 40,
      "outputs": []
    },
    {
      "cell_type": "code",
      "source": [
        "spell_check.wordCheck()"
      ],
      "metadata": {
        "colab": {
          "base_uri": "https://localhost:8080/"
        },
        "id": "dxG50tn8xQht",
        "outputId": "0e7e5742-f183-4a06-e6d6-8fe7b0c468f0"
      },
      "execution_count": 41,
      "outputs": [
        {
          "output_type": "stream",
          "name": "stdout",
          "text": [
            "Enter word: brink\n",
            "The word exists in the dictionary.\n"
          ]
        }
      ]
    },
    {
      "cell_type": "code",
      "source": [
        "spell_check.wordCheck()"
      ],
      "metadata": {
        "colab": {
          "base_uri": "https://localhost:8080/"
        },
        "id": "N7LsCGdn0rRR",
        "outputId": "aba5cd01-83f7-4a50-86be-e290685c3f78"
      },
      "execution_count": 42,
      "outputs": [
        {
          "output_type": "stream",
          "name": "stdout",
          "text": [
            "Enter word: brik\n",
            "The word \"brik\" is not in the dictionary.\n",
            "The four nearest words to the word \"brik\" are: \"['brighton', 'brigs', 'brill', 'brilliance']\".\n",
            "The word \"brik\" is added to dictionary.\n"
          ]
        }
      ]
    }
  ]
}